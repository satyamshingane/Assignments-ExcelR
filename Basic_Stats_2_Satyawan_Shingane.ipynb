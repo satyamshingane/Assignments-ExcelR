{
 "cells": [
  {
   "cell_type": "code",
   "execution_count": 1,
   "id": "c13d4ee7",
   "metadata": {},
   "outputs": [
    {
     "name": "stdout",
     "output_type": "stream",
     "text": [
      "=== 99% Confidence Interval Using Sample Standard Deviation ===\n",
      "Sample Mean: 1.2387\n",
      "Sample Standard Deviation: 0.1932\n",
      "Critical t-value: 2.9768\n",
      "Margin of Error: 0.1485\n",
      "99% Confidence Interval: (1.0902, 1.3871)\n",
      "\n",
      "=== 99% Confidence Interval Using Known Population Standard Deviation ===\n",
      "Population Standard Deviation: 0.2000\n",
      "Critical z-value: 2.5758\n",
      "Margin of Error: 0.1330\n",
      "99% Confidence Interval: (1.1057, 1.3717)\n"
     ]
    }
   ],
   "source": [
    "# Import necessary libraries\n",
    "import numpy as np\n",
    "import scipy.stats as stats\n",
    "\n",
    "# Data: Durability of print-heads in millions of characters\n",
    "data = [1.13, 1.55, 1.43, 0.92, 1.25, 1.36, 1.32, 0.85, \n",
    "        1.07, 1.48, 1.20, 1.33, 1.18, 1.22, 1.29]\n",
    "\n",
    "# Sample Size\n",
    "n = len(data)\n",
    "\n",
    "# (a) 99% Confidence Interval Using Sample Standard Deviation\n",
    "# Step 1: Calculate the sample mean and sample standard deviation\n",
    "sample_mean = np.mean(data)\n",
    "sample_std = np.std(data, ddof=1)  # Use ddof=1 for sample standard deviation\n",
    "\n",
    "# Step 2: Find the critical t-value for 99% confidence level\n",
    "confidence_level = 0.99\n",
    "alpha = 1 - confidence_level\n",
    "t_critical = stats.t.ppf(1 - alpha / 2, df=n-1)  # Degrees of freedom = n-1\n",
    "\n",
    "# Step 3: Calculate the margin of error\n",
    "margin_of_error_sample = t_critical * (sample_std / np.sqrt(n))\n",
    "\n",
    "# Step 4: Calculate the confidence interval\n",
    "lower_bound_sample = sample_mean - margin_of_error_sample\n",
    "upper_bound_sample = sample_mean + margin_of_error_sample\n",
    "\n",
    "# Display the results\n",
    "print(\"=== 99% Confidence Interval Using Sample Standard Deviation ===\")\n",
    "print(f\"Sample Mean: {sample_mean:.4f}\")\n",
    "print(f\"Sample Standard Deviation: {sample_std:.4f}\")\n",
    "print(f\"Critical t-value: {t_critical:.4f}\")\n",
    "print(f\"Margin of Error: {margin_of_error_sample:.4f}\")\n",
    "print(f\"99% Confidence Interval: ({lower_bound_sample:.4f}, {upper_bound_sample:.4f})\\n\")\n",
    "\n",
    "\n",
    "# (b) 99% Confidence Interval Using Known Population Standard Deviation\n",
    "# Given population standard deviation\n",
    "population_std = 0.2\n",
    "\n",
    "# Step 1: Find the critical z-value for 99% confidence level\n",
    "z_critical = stats.norm.ppf(1 - alpha / 2)\n",
    "\n",
    "# Step 2: Calculate the margin of error\n",
    "margin_of_error_population = z_critical * (population_std / np.sqrt(n))\n",
    "\n",
    "# Step 3: Calculate the confidence interval\n",
    "lower_bound_population = sample_mean - margin_of_error_population\n",
    "upper_bound_population = sample_mean + margin_of_error_population\n",
    "\n",
    "# Display the results\n",
    "print(\"=== 99% Confidence Interval Using Known Population Standard Deviation ===\")\n",
    "print(f\"Population Standard Deviation: {population_std:.4f}\")\n",
    "print(f\"Critical z-value: {z_critical:.4f}\")\n",
    "print(f\"Margin of Error: {margin_of_error_population:.4f}\")\n",
    "print(f\"99% Confidence Interval: ({lower_bound_population:.4f}, {upper_bound_population:.4f})\")\n"
   ]
  },
  {
   "cell_type": "code",
   "execution_count": null,
   "id": "0a353b28",
   "metadata": {},
   "outputs": [],
   "source": []
  }
 ],
 "metadata": {
  "kernelspec": {
   "display_name": "Python 3 (ipykernel)",
   "language": "python",
   "name": "python3"
  },
  "language_info": {
   "codemirror_mode": {
    "name": "ipython",
    "version": 3
   },
   "file_extension": ".py",
   "mimetype": "text/x-python",
   "name": "python",
   "nbconvert_exporter": "python",
   "pygments_lexer": "ipython3",
   "version": "3.11.5"
  }
 },
 "nbformat": 4,
 "nbformat_minor": 5
}
