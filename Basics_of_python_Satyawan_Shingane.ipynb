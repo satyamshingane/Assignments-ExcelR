{
 "cells": [
  {
   "cell_type": "markdown",
   "id": "76656165",
   "metadata": {},
   "source": [
    "# 1.PRIME NUMBER"
   ]
  },
  {
   "cell_type": "code",
   "execution_count": 2,
   "id": "555334b7",
   "metadata": {},
   "outputs": [
    {
     "name": "stdout",
     "output_type": "stream",
     "text": [
      "Enter a number to check if it is prime: 56\n",
      "56 is not a prime number.\n"
     ]
    }
   ],
   "source": [
    "def is_prime(n):\n",
    "    \"\"\"\n",
    "    Function to check if a number is prime.\n",
    "    :param n: Integer to check for primality\n",
    "    :return: True if prime, False otherwise\n",
    "    \"\"\"\n",
    "    # Prime numbers are greater than 1\n",
    "    if n <= 1:\n",
    "        return False\n",
    "    \n",
    "    # Check for factors from 2 to the square root of n\n",
    "    for i in range(2, int(n**0.5) + 1):\n",
    "        if n % i == 0:\n",
    "            return False  # n is divisible by i, not prime\n",
    "    return True  # No divisors found, n is prime\n",
    "\n",
    "\n",
    "# Input from the user\n",
    "num = int(input(\"Enter a number to check if it is prime: \"))\n",
    "\n",
    "# Check if the number is prime\n",
    "if is_prime(num):\n",
    "    print(f\"{num} is a prime number.\")\n",
    "else:\n",
    "    print(f\"{num} is not a prime number.\")\n"
   ]
  },
  {
   "cell_type": "markdown",
   "id": "0dad3299",
   "metadata": {},
   "source": [
    "# 2.Product of Random Numbers\n"
   ]
  },
  {
   "cell_type": "code",
   "execution_count": 4,
   "id": "7fe5344c",
   "metadata": {},
   "outputs": [
    {
     "name": "stdout",
     "output_type": "stream",
     "text": [
      "Multiply the two numbers: 1 x 2\n",
      "Enter your answer: 2\n",
      "Correct! Well done! 🎉\n"
     ]
    }
   ],
   "source": [
    "import random\n",
    "\n",
    "def multiplication_game():\n",
    "    \"\"\"\n",
    "    Generates two random numbers, asks the user for their product,\n",
    "    and checks if the answer is correct.\n",
    "    \"\"\"\n",
    "    # Generate two random numbers between 1 and 10\n",
    "    num1 = random.randint(1, 10)\n",
    "    num2 = random.randint(1, 10)\n",
    "    \n",
    "    # Calculate the correct product\n",
    "    correct_product = num1 * num2\n",
    "    \n",
    "    # Ask the user to calculate the product\n",
    "    print(f\"Multiply the two numbers: {num1} x {num2}\")\n",
    "    user_input = input(\"Enter your answer: \")\n",
    "    \n",
    "    # Validate the input to ensure it is a number\n",
    "    if not user_input.isdigit():\n",
    "        print(\"Invalid input. Please enter a valid number next time!\")\n",
    "        return\n",
    "    \n",
    "    # Convert user input to an integer\n",
    "    user_answer = int(user_input)\n",
    "    \n",
    "    # Check if the user's answer is correct\n",
    "    if user_answer == correct_product:\n",
    "        print(\"Correct! Well done! 🎉\")\n",
    "    else:\n",
    "        print(f\"Wrong! The correct answer is {correct_product}.\")\n",
    "\n",
    "# Run the program\n",
    "multiplication_game()\n"
   ]
  },
  {
   "cell_type": "markdown",
   "id": "429c4d7b",
   "metadata": {},
   "source": [
    "# 3. Squares of Even/Odd Numbers"
   ]
  },
  {
   "cell_type": "code",
   "execution_count": 5,
   "id": "9976a187",
   "metadata": {},
   "outputs": [
    {
     "name": "stdout",
     "output_type": "stream",
     "text": [
      "The square of 100 is 10000\n",
      "The square of 102 is 10404\n",
      "The square of 104 is 10816\n",
      "The square of 106 is 11236\n",
      "The square of 108 is 11664\n",
      "The square of 110 is 12100\n",
      "The square of 112 is 12544\n",
      "The square of 114 is 12996\n",
      "The square of 116 is 13456\n",
      "The square of 118 is 13924\n",
      "The square of 120 is 14400\n",
      "The square of 122 is 14884\n",
      "The square of 124 is 15376\n",
      "The square of 126 is 15876\n",
      "The square of 128 is 16384\n",
      "The square of 130 is 16900\n",
      "The square of 132 is 17424\n",
      "The square of 134 is 17956\n",
      "The square of 136 is 18496\n",
      "The square of 138 is 19044\n",
      "The square of 140 is 19600\n",
      "The square of 142 is 20164\n",
      "The square of 144 is 20736\n",
      "The square of 146 is 21316\n",
      "The square of 148 is 21904\n",
      "The square of 150 is 22500\n",
      "The square of 152 is 23104\n",
      "The square of 154 is 23716\n",
      "The square of 156 is 24336\n",
      "The square of 158 is 24964\n",
      "The square of 160 is 25600\n",
      "The square of 162 is 26244\n",
      "The square of 164 is 26896\n",
      "The square of 166 is 27556\n",
      "The square of 168 is 28224\n",
      "The square of 170 is 28900\n",
      "The square of 172 is 29584\n",
      "The square of 174 is 30276\n",
      "The square of 176 is 30976\n",
      "The square of 178 is 31684\n",
      "The square of 180 is 32400\n",
      "The square of 182 is 33124\n",
      "The square of 184 is 33856\n",
      "The square of 186 is 34596\n",
      "The square of 188 is 35344\n",
      "The square of 190 is 36100\n",
      "The square of 192 is 36864\n",
      "The square of 194 is 37636\n",
      "The square of 196 is 38416\n",
      "The square of 198 is 39204\n",
      "The square of 200 is 40000\n"
     ]
    }
   ],
   "source": [
    "\"\"\"\n",
    "This script calculates and prints the squares of all even numbers \n",
    "within the range of 100 to 200. \n",
    "I chose even numbers because they are divisible by 2 and provide a clear distinction\n",
    "for filtering numbers in this range.\n",
    "\"\"\"\n",
    "\n",
    "# Loop through the range of 100 to 200\n",
    "for number in range(100, 201):\n",
    "    if number % 2 == 0:  # Check if the number is even\n",
    "        square = number ** 2  # Calculate the square of the even number\n",
    "        print(f\"The square of {number} is {square}\")\n"
   ]
  },
  {
   "cell_type": "markdown",
   "id": "790aa1c6",
   "metadata": {},
   "source": [
    "# 4. Word counter"
   ]
  },
  {
   "cell_type": "code",
   "execution_count": 8,
   "id": "00c994bf",
   "metadata": {},
   "outputs": [
    {
     "name": "stdout",
     "output_type": "stream",
     "text": [
      "Enter the text to analyze:\n",
      "this is to certify that this is certify to is tp\n",
      "'this': 2\n",
      "'is': 3\n",
      "'to': 2\n",
      "'certify': 2\n",
      "'that': 1\n",
      "'tp': 1\n"
     ]
    }
   ],
   "source": [
    "from collections import Counter\n",
    "import re\n",
    "\n",
    "def word_counter(input_text):\n",
    "    \"\"\"\n",
    "    Function to count the occurrence of each word in a given text.\n",
    "    :param input_text: The input string containing the text.\n",
    "    :return: Dictionary of word counts.\n",
    "    \"\"\"\n",
    "    # Convert text to lowercase to make counting case-insensitive\n",
    "    input_text = input_text.lower()\n",
    "    \n",
    "    # Use regex to split the text into words (removing punctuation)\n",
    "    words = re.findall(r'\\b\\w+\\b', input_text)\n",
    "    \n",
    "    # Use Counter to count the occurrences of each word\n",
    "    word_count = Counter(words)\n",
    "    \n",
    "    # Display each word and its count\n",
    "    for word, count in word_count.items():\n",
    "        print(f\"'{word}': {count}\")\n",
    "\n",
    "# Take input from the user\n",
    "print(\"Enter the text to analyze:\")\n",
    "input_text = input()\n",
    "\n",
    "# Call the function\n",
    "word_counter(input_text)\n"
   ]
  },
  {
   "cell_type": "markdown",
   "id": "337f2147",
   "metadata": {},
   "source": [
    "# 5.Check for Palindrome"
   ]
  },
  {
   "cell_type": "code",
   "execution_count": 1,
   "id": "0324b002",
   "metadata": {},
   "outputs": [
    {
     "name": "stdout",
     "output_type": "stream",
     "text": [
      "Enter a word or phrase to check if it's a palindrome: roro\n",
      "False - The input is not a palindrome.\n"
     ]
    }
   ],
   "source": [
    "import re\n",
    "\n",
    "def is_palindrome(s):\n",
    "    \"\"\"\n",
    "    Function to check if a string is a palindrome.\n",
    "    Ignores spaces, punctuation, and capitalization.\n",
    "    \n",
    "    :param s: Input string\n",
    "    :return: True if palindrome, False otherwise\n",
    "    \"\"\"\n",
    "    # Step 1: Convert the string to lowercase\n",
    "    s = s.lower()\n",
    "    \n",
    "    # Step 2: Remove all non-alphanumeric characters using regex\n",
    "    cleaned_string = re.sub(r'[^a-z0-9]', '', s)\n",
    "    \n",
    "    # Step 3: Check if the cleaned string is equal to its reverse\n",
    "    return cleaned_string == cleaned_string[::-1]\n",
    "\n",
    "# Example Usage\n",
    "input_text = input(\"Enter a word or phrase to check if it's a palindrome: \")\n",
    "result = is_palindrome(input_text)\n",
    "\n",
    "if result:\n",
    "    print(\"True - The input is a palindrome.\")\n",
    "else:\n",
    "    print(\"False - The input is not a palindrome.\")\n"
   ]
  },
  {
   "cell_type": "code",
   "execution_count": null,
   "id": "53834213",
   "metadata": {},
   "outputs": [],
   "source": []
  },
  {
   "cell_type": "code",
   "execution_count": null,
   "id": "304aa34b",
   "metadata": {},
   "outputs": [],
   "source": []
  }
 ],
 "metadata": {
  "kernelspec": {
   "display_name": "Python 3 (ipykernel)",
   "language": "python",
   "name": "python3"
  },
  "language_info": {
   "codemirror_mode": {
    "name": "ipython",
    "version": 3
   },
   "file_extension": ".py",
   "mimetype": "text/x-python",
   "name": "python",
   "nbconvert_exporter": "python",
   "pygments_lexer": "ipython3",
   "version": "3.11.5"
  }
 },
 "nbformat": 4,
 "nbformat_minor": 5
}
